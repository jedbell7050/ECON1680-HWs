{
 "cells": [
  {
   "cell_type": "code",
   "execution_count": 1,
   "id": "42d3af85",
   "metadata": {},
   "outputs": [],
   "source": [
    "import pandas as pd\n",
    "import numpy as np\n",
    "import matplotlib.pyplot as plt\n",
    "from collections import Counter\n",
    "from itertools import chain\n",
    "from sklearn.feature_extraction.text import TfidfVectorizer\n",
    "from sklearn.metrics.pairwise import cosine_similarity\n",
    "from sklearn.model_selection import train_test_split\n",
    "from fuzzywuzzy import fuzz \n",
    "from sklearn.linear_model import LogisticRegression\n",
    "from transformers import pipeline"
   ]
  },
  {
   "cell_type": "markdown",
   "id": "41545670",
   "metadata": {},
   "source": [
    "1.\tDownload data on covid tweets from Kaggle: https://www.kaggle.com/datasets/datatattle/covid-19-nlp-text-classification/download  \n",
    "Load both the training and testing files into python.\n"
   ]
  },
  {
   "cell_type": "code",
   "execution_count": 2,
   "id": "87e521c9",
   "metadata": {},
   "outputs": [],
   "source": [
    "# Read the two csvs and create training and testing dataframes\n",
    "train_df = pd.read_csv('Corona_NLP_train.csv', encoding='latin-1')\n",
    "test_df = pd.read_csv('Corona_NLP_test.csv', encoding='latin-1')"
   ]
  },
  {
   "cell_type": "markdown",
   "id": "cacc48d3",
   "metadata": {},
   "source": [
    "2.\tPlot histogram of sentiment categories in the training dataframe. Hint: Use df[‘Sentiment’] .value_counts().reindex([\"Extremely Negative\", \"Negative\", \"Neutral\", \"Positive\", \"Extremely Positive\"]).plot(kind='bar') to control ordering of categories. Be sure to add title and labels for your axes. Insert your graph here.  \n",
    "\n",
    "\n",
    "3.\tPlot histogram of sentiment categories in the testing dataframe. Insert your graph here."
   ]
  },
  {
   "cell_type": "code",
   "execution_count": 3,
   "id": "9b896b56",
   "metadata": {},
   "outputs": [
    {
     "data": {
      "image/png": "[encoded data removed]",
      "text/plain": [
       "<Figure size 1080x432 with 2 Axes>"
      ]
     },
     "metadata": {
      "needs_background": "light"
     },
     "output_type": "display_data"
    }
   ],
   "source": [
    "# Initialize the matplotlib object\n",
    "fig, ax = plt.subplots(1,2, figsize=(15,6))\n",
    "\n",
    "# Plot the training histogram with the appropriate labels and set the title\n",
    "train_df['Sentiment'].value_counts().reindex([\"Extremely Negative\", \"Negative\", \"Neutral\", \"Positive\", \n",
    "                                               \"Extremely Positive\"]).plot(kind='bar', ax=ax[0]) \n",
    "ax[0].set_title('Training Histogram')\n",
    "\n",
    "# Plot the testing histogram with the appropriate labels and set the title\n",
    "test_df['Sentiment'].value_counts().reindex([\"Extremely Negative\", \"Negative\", \"Neutral\", \"Positive\", \n",
    "                                               \"Extremely Positive\"]).plot(kind='bar', ax=ax[1]) \n",
    "ax[1].set_title('Testing Histogram')\n",
    "\n",
    "\n",
    "plt.show()"
   ]
  },
  {
   "cell_type": "markdown",
   "id": "1088947e",
   "metadata": {},
   "source": [
    "4.\tCompare the distributions. Do you think this is a good training/testing split? Why or why not? Write your answer here in 2-3 sentences.  \n",
    "\n",
    "\n",
    "This looks like a good training/testing split because the histograms look very similar, with spikes at both negative and positive, and dips at the other categories. The training dataset has a higher frequency of positive compared to negative than the testing dataset does, but it doesn't look like a significant difference and the two datasets don't need to be exactly identical."
   ]
  },
  {
   "cell_type": "markdown",
   "id": "463f404b",
   "metadata": {},
   "source": [
    "5.\tFor this homework, you will be working with the testing dataset only because it is a smaller sample. Furthermore, drop all Neutral labelled tweets. Call this dataframe: df_tweet. How many observations (tweets) does this new dataframe have? Write your answer here.  \n",
    "\n",
    "df_tweet has 3179 observations remaining."
   ]
  },
  {
   "cell_type": "code",
   "execution_count": 4,
   "id": "02107496",
   "metadata": {},
   "outputs": [
    {
     "data": {
      "text/plain": [
       "UserName         3179\n",
       "ScreenName       3179\n",
       "Location         2467\n",
       "TweetAt          3179\n",
       "OriginalTweet    3179\n",
       "Sentiment        3179\n",
       "dtype: int64"
      ]
     },
     "execution_count": 4,
     "metadata": {},
     "output_type": "execute_result"
    }
   ],
   "source": [
    "# Filter out the tweets with Neutral sentiment and print the counts\n",
    "df_tweet = test_df[test_df['Sentiment']!='Neutral'].reset_index(drop=True)\n",
    "df_tweet.count()"
   ]
  },
  {
   "cell_type": "markdown",
   "id": "2f960ed2",
   "metadata": {},
   "source": [
    "6.\tTo clean the tweets a little, run the following code. NOTE: this code will take between 5-10 minutes to run on a laptop. Explain what each line is doing:"
   ]
  },
  {
   "cell_type": "code",
   "execution_count": 5,
   "id": "bcb7a030",
   "metadata": {},
   "outputs": [],
   "source": [
    "# This creates an empty list to store the new clean tweets in\n",
    "cleantweet=[]\n",
    "\n",
    "# this loops through all the tweets in the dataframe df_tweet\n",
    "for i in range(len(df_tweet)):\n",
    "    # This gets the tweet from the dataframe\n",
    "    tweet=df_tweet['OriginalTweet'][i]\n",
    "    \n",
    "    # These replace the given characters ('\\r', '\\n', '. ', and ', ' with a space)\n",
    "    tweet=tweet.replace('\\r',' ')\n",
    "    tweet=tweet.replace('\\n',' ')\n",
    "    tweet=tweet.replace('.  ',' ')\n",
    "    tweet=tweet.replace(', ',' ')\n",
    "    \n",
    "    # This splits each row on the spaces to create a list of words\n",
    "    tokens = tweet.split(' ')\n",
    "    \n",
    "    # This creates empty lists to store the hashtags and words\n",
    "    tweet_hashtags=[]\n",
    "    tweet_token=[]\n",
    "    \n",
    "    # This loops through all the words in the word list created from tweet.split\n",
    "    for t in tokens:\n",
    "        \n",
    "        # This checks if the word contains the hyperlink since they all have 'https:', and if it doesn't then it's\n",
    "        # added to the new list of words\n",
    "        if \"https:\" not in t:\n",
    "            tweet_token.append(t)\n",
    "            \n",
    "    # This adds the word to the clean tweet list and joins all the words from the list to reconstruct the \n",
    "    # tweet from the list of words, and it makes them all lowercase\n",
    "    cleantweet.append(\" \".join(tweet_token).lower())\n",
    "    \n",
    "# This creates a new column from the list of cleaned tweets\n",
    "df_tweet['clean tweet']= cleantweet"
   ]
  },
  {
   "cell_type": "code",
   "execution_count": 6,
   "id": "afd9ac22",
   "metadata": {},
   "outputs": [],
   "source": [
    "#### Below Takes a few min to run. 5-10 min. ####\n",
    "\n",
    "# This sets the similarity threshold for dropping the tweet\n",
    "similar_level=85 \n",
    "\n",
    "# This creates an empty list to store indices of tweets that are to be deleted\n",
    "duplicate_index = []\n",
    "\n",
    "# This loops throuhg all the tweets in df_tweet except the last one\n",
    "for original in range(len(df_tweet)-1): \n",
    "    if original not in duplicate_index:\n",
    "        \n",
    "        # If the tweet is not in the duplicate index, then loop through all the tweets starting with the current\n",
    "        # one through the end of the dataframe\n",
    "        for compared in range(original+1, len(df_tweet)): \n",
    "            \n",
    "            # If the compared tweet isn't in the duplicate index, then check how similar the compared and original\n",
    "            # tweets are. If the ratio is greater than 85, add the compared tweet to the duplicate index\n",
    "            # to get dropped\n",
    "            if compared not in duplicate_index:                \n",
    "                if fuzz.ratio(df_tweet['clean tweet'][original], \n",
    "                              df_tweet['clean tweet'][compared]) >= similar_level: \n",
    "                    duplicate_index.append(compared)\n",
    "                    \n",
    "# The point of the above code is to drop tweets that are too similar from the dataframe\n",
    "            \n",
    "# This drops the tweets that are too similar and resets in the index of the dataframe\n",
    "df_tweet.drop(duplicate_index, inplace=True)\n",
    "df_tweet.reset_index(drop=True,inplace=True)"
   ]
  },
  {
   "cell_type": "markdown",
   "id": "f5f33bcd",
   "metadata": {},
   "source": [
    "7.\tMake a list of hashtags for each tweet."
   ]
  },
  {
   "cell_type": "code",
   "execution_count": 7,
   "id": "a2045005",
   "metadata": {},
   "outputs": [],
   "source": [
    "# Initialize an empty list to store the hashtages\n",
    "hashtags = []\n",
    "\n",
    "# Loop through the clean tweets and split up each word\n",
    "for index, item in df_tweet.iterrows():\n",
    "    words = item['clean tweet'].split(\" \")\n",
    "    \n",
    "    # Initialize and empty list for the tags\n",
    "    tags = []\n",
    "    # Loop throuhg every word in each tweet and if it contains a \"#\", add it to tags\n",
    "    for w in words:\n",
    "        if \"#\" in w:\n",
    "            tags.append(w)\n",
    "    \n",
    "    # Add each list of tags to hashtags\n",
    "    hashtags.append(tags)\n",
    "            \n",
    "# Set the new columns equal to hashtags\n",
    "df_tweet['hashtags'] = hashtags"
   ]
  },
  {
   "cell_type": "markdown",
   "id": "7e5b83ac",
   "metadata": {},
   "source": [
    "8.\tWhat are the top 20 most used hashtags? Insert the list of hashtags and how many time each hashtag occur here. "
   ]
  },
  {
   "cell_type": "code",
   "execution_count": 8,
   "id": "e07d4221",
   "metadata": {},
   "outputs": [
    {
     "data": {
      "text/plain": [
       "[('#covid_19', 1215),\n",
       " ('#coronavirus', 1021),\n",
       " ('#covid19', 226),\n",
       " ('#coronaviruspandemic', 176),\n",
       " ('#covid2019', 141),\n",
       " ('#coronaoutbreak', 127),\n",
       " ('#coronapocalypse', 101),\n",
       " ('#covid?19', 88),\n",
       " ('#panicbuying', 83),\n",
       " ('#coronavirusupdate', 49),\n",
       " ('#coronavirusoutbreak', 43),\n",
       " ('#corona', 41),\n",
       " ('#toiletpaper', 34),\n",
       " ('#retail', 29),\n",
       " ('#pandemic', 28),\n",
       " ('#coronavirusupdates', 28),\n",
       " ('#coronavirus.', 27),\n",
       " ('#covid', 24),\n",
       " ('#food', 23),\n",
       " ('#lockdown', 23)]"
      ]
     },
     "execution_count": 8,
     "metadata": {},
     "output_type": "execute_result"
    }
   ],
   "source": [
    "# Use the counter to count each occurance of each hashtag and print the top 20 most common\n",
    "tag_counts = Counter(chain.from_iterable(hashtags))\n",
    "tag_counts.most_common(20)"
   ]
  },
  {
   "cell_type": "markdown",
   "id": "066a44c3",
   "metadata": {},
   "source": [
    "9.\tUsing the ‘clean tweet’ variable from problem 6, create term frequency vector representation for all tweets. That is, make a document-term matrix where each document is a tweet and the terms are all the vocabulary from the tweet dataset. Hint: use TfidfVectorizer().fit_transform(). Call your document term matrix X. It should come out as a scipy.sparse.csr.csr_matrix object.   \n",
    "\n",
    "a.\tWhat are the dimensions of your matrix? Write that out here.  \n",
    "The dimensions are 3138 rows by 11074 columns, or 3138 documents with 11074 unique words\n",
    "\n"
   ]
  },
  {
   "cell_type": "code",
   "execution_count": 9,
   "id": "82f9b11b",
   "metadata": {},
   "outputs": [
    {
     "data": {
      "text/plain": [
       "<3138x11074 sparse matrix of type '<class 'numpy.float64'>'\n",
       "\twith 93976 stored elements in Compressed Sparse Row format>"
      ]
     },
     "execution_count": 9,
     "metadata": {},
     "output_type": "execute_result"
    }
   ],
   "source": [
    "# Initialize and Tfidf vectorizer and fit it to the clean tweets\n",
    "tv = TfidfVectorizer()\n",
    "X = tv.fit_transform(df_tweet['clean tweet'])\n",
    "\n",
    "# Display the result to find the dimensions\n",
    "X"
   ]
  },
  {
   "cell_type": "markdown",
   "id": "1b4accff",
   "metadata": {},
   "source": [
    "10.\tUse .get_feature_names() to make a list of the vocabulary and call it “features”.   \n",
    "a.\tIs this list alphabetized automatically? Write your answer here:  \n",
    "Yes, this list is automatically sorted into alphabetical order  \n",
    "\n",
    "b.\tWhat is the word associated with index 1680? Write your answer here:  \n",
    "'caramel' is associated with the index 1680\n"
   ]
  },
  {
   "cell_type": "code",
   "execution_count": 10,
   "id": "0ebf78bf",
   "metadata": {},
   "outputs": [
    {
     "name": "stdout",
     "output_type": "stream",
     "text": [
      "['aka', 'aka_layla', 'akin', 'akin_adesina', 'al', 'alabama', 'alarm', 'alas', 'alaska', 'albeit', 'albert', 'alberta', 'albertarecession', 'alcohol', 'alcohol_based_product', 'alcohols', 'alcoholâ', 'aldi', 'aldiuk', 'aldiusa', 'alert', 'alerting', 'alertness', 'alex', 'alex_carrick']\n"
     ]
    },
    {
     "data": {
      "text/plain": [
       "'caramel'"
      ]
     },
     "execution_count": 10,
     "metadata": {},
     "output_type": "execute_result"
    }
   ],
   "source": [
    "# Access the features using get_feature_names and print out a subset to check if they are in alphabetical order\n",
    "features = tv.get_feature_names()\n",
    "print(features[550:575])\n",
    "\n",
    "# Display the item at index 1680\n",
    "features[1680]"
   ]
  },
  {
   "cell_type": "markdown",
   "id": "f30ee8f0",
   "metadata": {},
   "source": [
    "11.\tCalculate the pairwise similarity between all tweets using cosine similarity. Hint: use the cosine_similarity() command from sklearn and then change it to a dataframe called df_cossim."
   ]
  },
  {
   "cell_type": "code",
   "execution_count": 11,
   "id": "df728c80",
   "metadata": {},
   "outputs": [],
   "source": [
    "# Create the similarity dataframe with the tweet indices as column labels\n",
    "df_cossim = pd.DataFrame(cosine_similarity(X), df_tweet.index)"
   ]
  },
  {
   "cell_type": "markdown",
   "id": "33f0efff",
   "metadata": {},
   "source": [
    "12.\tRun the following code and explain each step:"
   ]
  },
  {
   "cell_type": "code",
   "execution_count": 12,
   "id": "bad9a132",
   "metadata": {},
   "outputs": [],
   "source": [
    "# This creates a dataframe of the values from the triangle under the diagonal from the cosine similarity dataframe \n",
    "df_cossim_tri = pd.DataFrame(np.tril(df_cossim.values, k=-1))\n",
    "\n",
    "# This flattens the dataframe so each comparison is it's own row, so we can easily rank the similarity scores\n",
    "df_rank = df_cossim_tri.unstack().reset_index()\n",
    "\n",
    "# This names the columns of the dataframe\n",
    "df_rank.columns = ['row', 'column', 'similarity']"
   ]
  },
  {
   "cell_type": "markdown",
   "id": "9d11932f",
   "metadata": {},
   "source": [
    "13.\tWhich pairs of tweets have the top 10 highest similarity scores? Below include a table with the tweet pairs and their corresponding similarity score. Hint: sort the df_rank dataframe over similarity."
   ]
  },
  {
   "cell_type": "code",
   "execution_count": 13,
   "id": "3b9d14a4",
   "metadata": {},
   "outputs": [
    {
     "data": {
      "text/html": [
       "<div>\n",
       "<style scoped>\n",
       "    .dataframe tbody tr th:only-of-type {\n",
       "        vertical-align: middle;\n",
       "    }\n",
       "\n",
       "    .dataframe tbody tr th {\n",
       "        vertical-align: top;\n",
       "    }\n",
       "\n",
       "    .dataframe thead th {\n",
       "        text-align: right;\n",
       "    }\n",
       "</style>\n",
       "<table border=\"1\" class=\"dataframe\">\n",
       "  <thead>\n",
       "    <tr style=\"text-align: right;\">\n",
       "      <th></th>\n",
       "      <th>row</th>\n",
       "      <th>column</th>\n",
       "      <th>similarity</th>\n",
       "    </tr>\n",
       "  </thead>\n",
       "  <tbody>\n",
       "    <tr>\n",
       "      <th>2646686</th>\n",
       "      <td>843</td>\n",
       "      <td>1352</td>\n",
       "      <td>0.852782</td>\n",
       "    </tr>\n",
       "    <tr>\n",
       "      <th>2546270</th>\n",
       "      <td>811</td>\n",
       "      <td>1352</td>\n",
       "      <td>0.852692</td>\n",
       "    </tr>\n",
       "    <tr>\n",
       "      <th>560513</th>\n",
       "      <td>178</td>\n",
       "      <td>1949</td>\n",
       "      <td>0.823141</td>\n",
       "    </tr>\n",
       "    <tr>\n",
       "      <th>4244517</th>\n",
       "      <td>1352</td>\n",
       "      <td>1941</td>\n",
       "      <td>0.814792</td>\n",
       "    </tr>\n",
       "    <tr>\n",
       "      <th>7452073</th>\n",
       "      <td>2374</td>\n",
       "      <td>2461</td>\n",
       "      <td>0.813846</td>\n",
       "    </tr>\n",
       "    <tr>\n",
       "      <th>182325</th>\n",
       "      <td>58</td>\n",
       "      <td>321</td>\n",
       "      <td>0.812643</td>\n",
       "    </tr>\n",
       "    <tr>\n",
       "      <th>2546388</th>\n",
       "      <td>811</td>\n",
       "      <td>1470</td>\n",
       "      <td>0.811657</td>\n",
       "    </tr>\n",
       "    <tr>\n",
       "      <th>2546859</th>\n",
       "      <td>811</td>\n",
       "      <td>1941</td>\n",
       "      <td>0.804707</td>\n",
       "    </tr>\n",
       "    <tr>\n",
       "      <th>2545761</th>\n",
       "      <td>811</td>\n",
       "      <td>843</td>\n",
       "      <td>0.801811</td>\n",
       "    </tr>\n",
       "    <tr>\n",
       "      <th>8039048</th>\n",
       "      <td>2561</td>\n",
       "      <td>2630</td>\n",
       "      <td>0.795819</td>\n",
       "    </tr>\n",
       "  </tbody>\n",
       "</table>\n",
       "</div>"
      ],
      "text/plain": [
       "          row  column  similarity\n",
       "2646686   843    1352    0.852782\n",
       "2546270   811    1352    0.852692\n",
       "560513    178    1949    0.823141\n",
       "4244517  1352    1941    0.814792\n",
       "7452073  2374    2461    0.813846\n",
       "182325     58     321    0.812643\n",
       "2546388   811    1470    0.811657\n",
       "2546859   811    1941    0.804707\n",
       "2545761   811     843    0.801811\n",
       "8039048  2561    2630    0.795819"
      ]
     },
     "execution_count": 13,
     "metadata": {},
     "output_type": "execute_result"
    }
   ],
   "source": [
    "# Sort the similarity values in descending order\n",
    "df_rank.sort_values('similarity', ascending=False).head(10)"
   ]
  },
  {
   "cell_type": "code",
   "execution_count": 14,
   "id": "bd9f0b04",
   "metadata": {},
   "outputs": [
    {
     "name": "stdout",
     "output_type": "stream",
     "text": [
      "call your rep amp senators today amp demand they pass the bill it contains free testing 14 days paid sick leave 3 months paid family leave expanded unemployment insurance amp food security medicaid funds lives are on the line 202 224 3121\n",
      "call your representatives today and demand they pass the #familiesfirst coronavirus bill. #coronavirus    - free testing   - 14 days paid sick leave   - 3 months paid family leave   - expanded unemployment insurance &amp; food security   - medicaid funds   lives are on the line. (202) 224-3121\n",
      "\n",
      "call now 202 224 3121 and demand congress pass the bill   free testing   14 days paid sick leave   3 months paid family leave   expanded unemployment insurance and food security   medicaid funds\n",
      "call your representatives today and demand they pass the #familiesfirst coronavirus bill. #coronavirus    - free testing   - 14 days paid sick leave   - 3 months paid family leave   - expanded unemployment insurance &amp; food security   - medicaid funds   lives are on the line. (202) 224-3121\n",
      "\n",
      "coronavirus is hurting store traffic and e-commerce won't help much #retail #coronavirus \n",
      "coronavirus is hurting store traffic and e-commerce won't help much analysts say #coronavirus #retail #ecommerce\n",
      "\n",
      "call your representatives today and demand they pass the #familiesfirst coronavirus bill. #coronavirus    - free testing   - 14 days paid sick leave   - 3 months paid family leave   - expanded unemployment insurance &amp; food security   - medicaid funds   lives are on the line. (202) 224-3121\n",
      "call your senators. demand they pass the #familiesfirst #coronavirus bill containing:      -free testing   -14 days paid sick leave   -3 months paid family leave   -expanded unemployment insurance -food security   -medicaid funds       ask for your senatorâs office. (202) 224-3121 #covid19\n",
      "\n",
      "went to the supermarket amp i d like to remind everyone that 19 is a respiratory disease not assitory disease please stop hoarding the toilet paper thanks\n",
      "people are annoying af       rt @daisyfuentes: went to the supermarket &amp; iâd like to remind everyone that #covid_19 is a respiratory disease not assitory disease. please stop hoarding the toilet paper. thanks.\n",
      "\n",
      "trump said people must \"be vigilant,\" then concluded \"be calm. it's really working out. and: lot of good things are going to happen. the consumer is ready. the consumer is so powerful in our country with what we've done with tax cuts and regulation cuts and all of those things.\"\n",
      "\"itâs really working out. and a lot of good things are going to happen. the consumer is ready and the consumer is so powerful in our country with what weâve done with tax cuts and regulation cuts and all of those things.\" #covid19 #covid_19 #stablegenius \n",
      "\n",
      "call now 202 224 3121 and demand congress pass the bill   free testing   14 days paid sick leave   3 months paid family leave   expanded unemployment insurance and food security   medicaid funds\n",
      "@cristela9 we need paid sick days &amp; leave. call now: (202) 224-3121 and demand congress pass the #familiesfirst #coronavirus bill     ?free testing    ?  paid sick leave   ???????3 months paid family leave   ? expanded unemployment insurance and foo\n",
      "\n",
      "call now 202 224 3121 and demand congress pass the bill   free testing   14 days paid sick leave   3 months paid family leave   expanded unemployment insurance and food security   medicaid funds\n",
      "call your senators. demand they pass the #familiesfirst #coronavirus bill containing:      -free testing   -14 days paid sick leave   -3 months paid family leave   -expanded unemployment insurance -food security   -medicaid funds       ask for your senatorâs office. (202) 224-3121 #covid19\n",
      "\n",
      "call now 202 224 3121 and demand congress pass the bill   free testing   14 days paid sick leave   3 months paid family leave   expanded unemployment insurance and food security   medicaid funds\n",
      "call your rep amp senators today amp demand they pass the bill it contains free testing 14 days paid sick leave 3 months paid family leave expanded unemployment insurance amp food security medicaid funds lives are on the line 202 224 3121\n",
      "\n",
      "as the push for food continues to grow during the covid 19 outbreak those who need it most may have a hard time getting it\n",
      "thanks for coming by our food shelf today rt @wcco: as the push for food continues to grow during the covid-19 outbreak those who need it most may have a hard time getting it. |\n"
     ]
    }
   ],
   "source": [
    "# Print out each of the 10 pairs to do a manual check of the similarities\n",
    "print(df_tweet['clean tweet'][843])\n",
    "print(df_tweet['clean tweet'][1352])\n",
    "print()\n",
    "print(df_tweet['clean tweet'][811])\n",
    "print(df_tweet['clean tweet'][1352])\n",
    "print()\n",
    "print(df_tweet['clean tweet'][178])\n",
    "print(df_tweet['clean tweet'][1949])\n",
    "print()\n",
    "print(df_tweet['clean tweet'][1352])\n",
    "print(df_tweet['clean tweet'][1941])\n",
    "print()\n",
    "print(df_tweet['clean tweet'][2374])\n",
    "print(df_tweet['clean tweet'][2461])\n",
    "print()\n",
    "print(df_tweet['clean tweet'][58])\n",
    "print(df_tweet['clean tweet'][321])\n",
    "print()\n",
    "print(df_tweet['clean tweet'][811])\n",
    "print(df_tweet['clean tweet'][1470])\n",
    "print()\n",
    "print(df_tweet['clean tweet'][811])\n",
    "print(df_tweet['clean tweet'][1941])\n",
    "print()\n",
    "print(df_tweet['clean tweet'][811])\n",
    "print(df_tweet['clean tweet'][843])\n",
    "print()\n",
    "print(df_tweet['clean tweet'][2561])\n",
    "print(df_tweet['clean tweet'][2630])"
   ]
  },
  {
   "cell_type": "markdown",
   "id": "7b9162b8",
   "metadata": {},
   "source": [
    "14.\tSpend 3-5 sentences describing what seems to make sense in the similarity matching. What doesn’t make sense? If you wanted to improve matching, what steps would you take now? If you would need to do more cleaning of the data, what would you want to do?  \n",
    "\n",
    "\n",
    "It seems that tweets that repeat the same phrases are more likely to have higher similairty scores, which makes sense. For example, the only differences between the top two most similar tweets are some different abbreviations and puncuation. Since these tweets are nearly identical, it seems that the similarity score should actually be higher. This could be achieved by removing more kinds of punctuation than just periods and commas and by stemming certain words, especially those that are often abbreviated over tweets like 'reps' for 'representatives'. "
   ]
  },
  {
   "cell_type": "markdown",
   "id": "43812f36",
   "metadata": {},
   "source": [
    "15.\tMake a new variable that has binary sentiment (positive=1 and negative=0) where a sentiment of positive and extremely positive is now 1, and then negative and extremely negative is now 0. "
   ]
  },
  {
   "cell_type": "code",
   "execution_count": 15,
   "id": "c2e5d8d2",
   "metadata": {},
   "outputs": [],
   "source": [
    "# Initialize and empty list to store the binary sentiment rating\n",
    "bin_sent = []\n",
    "\n",
    "# Loop through each item in the sentiment column and add 1 to bin_sent if the sentiment is Ppositive or\n",
    "# extremely positive, otherwise add 0\n",
    "for index, item in df_tweet.iterrows():\n",
    "    if 'Positive' in item['Sentiment']:\n",
    "        bin_sent.append(1)\n",
    "    else:\n",
    "        bin_sent.append(0)\n",
    "        \n",
    "# Create the new column bin_sent from the list of binary sentiment\n",
    "df_tweet['bin_sent'] = bin_sent"
   ]
  },
  {
   "cell_type": "markdown",
   "id": "99c33b8b",
   "metadata": {},
   "source": [
    "16.\tRun a logit lasso regression with binary sentiment as the output variable and your document term matrix as your inputs. "
   ]
  },
  {
   "cell_type": "code",
   "execution_count": 16,
   "id": "f70fcb6f",
   "metadata": {},
   "outputs": [
    {
     "name": "stdout",
     "output_type": "stream",
     "text": [
      "[(0.49363057324840764, 0.001), (0.49363057324840764, 0.01), (0.49363057324840764, 0.1), (0.7101910828025477, 1), (0.7691082802547771, 10), (0.767515923566879, 100), (0.7627388535031847, 1000)]\n"
     ]
    }
   ],
   "source": [
    "# Create the document term matrix and save it as x, and save the response variable, binary sentiment, as y\n",
    "x = pd.DataFrame(X.toarray(), df_tweet.index)\n",
    "y = df_tweet['bin_sent']\n",
    "\n",
    "X_train, X_test, y_train, y_test = train_test_split(x, y, test_size=0.2, random_state=1680)\n",
    "\n",
    "# The C values to loop through\n",
    "Cs = [0.001, 0.01, 0.1, 1, 10, 100, 1000]\n",
    "# Empty list to store accuracies\n",
    "acc = []\n",
    "# Loop through each C, fit the model, and store the accuracy and C value as a tuple\n",
    "for c in Cs:\n",
    "    logit = LogisticRegression(penalty='l1', solver='liblinear', random_state=1680, C=c)\n",
    "    model = logit.fit(X_train,y_train)\n",
    "    acc.append((model.score(X_test,y_test), c))\n",
    "    \n",
    "print(acc)\n",
    "# C = 10 gives the best accuracy of 0.7691"
   ]
  },
  {
   "cell_type": "markdown",
   "id": "635977a8",
   "metadata": {},
   "source": [
    "16 d.\tRun the following code and explain each line"
   ]
  },
  {
   "cell_type": "code",
   "execution_count": 17,
   "id": "3c99ac57",
   "metadata": {},
   "outputs": [],
   "source": [
    "# Fit the model with the optimal C value (C=10) and save the coefficients\n",
    "logit = LogisticRegression(penalty='l1', solver='liblinear', random_state=1680, C=10)\n",
    "model = logit.fit(x,y)\n",
    "coefs = model.coef_\n",
    "\n",
    "# This creates a dataframe with every word and its coefficient\n",
    "df_coef = pd.DataFrame({'word': features, 'coef': coefs[-1].tolist()})\n",
    "\n",
    "# This adds a column to the coefficient dataframe that is the absolute value of the coefficient\n",
    "df_coef['abs coef']= df_coef['coef'].abs()\n",
    "\n",
    "# This adds a column to the tweet dataframe that is the predicted sentiment of the tweet\n",
    "df_tweet['logitlasso predicted sentiment'] = model.predict(x)"
   ]
  },
  {
   "cell_type": "markdown",
   "id": "56f5d0d5",
   "metadata": {},
   "source": [
    "17.\tWhat are the top 20 most important words for predicting class? These will be the largest coefficients in absolute value. Hint: sort df_coef. Print those top 20 words and their coefficients here."
   ]
  },
  {
   "cell_type": "code",
   "execution_count": 18,
   "id": "e8fa901e",
   "metadata": {},
   "outputs": [
    {
     "data": {
      "text/html": [
       "<div>\n",
       "<style scoped>\n",
       "    .dataframe tbody tr th:only-of-type {\n",
       "        vertical-align: middle;\n",
       "    }\n",
       "\n",
       "    .dataframe tbody tr th {\n",
       "        vertical-align: top;\n",
       "    }\n",
       "\n",
       "    .dataframe thead th {\n",
       "        text-align: right;\n",
       "    }\n",
       "</style>\n",
       "<table border=\"1\" class=\"dataframe\">\n",
       "  <thead>\n",
       "    <tr style=\"text-align: right;\">\n",
       "      <th></th>\n",
       "      <th>word</th>\n",
       "      <th>coef</th>\n",
       "      <th>abs coef</th>\n",
       "    </tr>\n",
       "  </thead>\n",
       "  <tbody>\n",
       "    <tr>\n",
       "      <th>8222</th>\n",
       "      <td>resource</td>\n",
       "      <td>-24.903412</td>\n",
       "      <td>24.903412</td>\n",
       "    </tr>\n",
       "    <tr>\n",
       "      <th>4546</th>\n",
       "      <td>hand</td>\n",
       "      <td>23.218213</td>\n",
       "      <td>23.218213</td>\n",
       "    </tr>\n",
       "    <tr>\n",
       "      <th>7107</th>\n",
       "      <td>panic</td>\n",
       "      <td>-22.791281</td>\n",
       "      <td>22.791281</td>\n",
       "    </tr>\n",
       "    <tr>\n",
       "      <th>2602</th>\n",
       "      <td>crisis</td>\n",
       "      <td>-22.565036</td>\n",
       "      <td>22.565036</td>\n",
       "    </tr>\n",
       "    <tr>\n",
       "      <th>4413</th>\n",
       "      <td>great</td>\n",
       "      <td>21.988188</td>\n",
       "      <td>21.988188</td>\n",
       "    </tr>\n",
       "    <tr>\n",
       "      <th>9614</th>\n",
       "      <td>suspended</td>\n",
       "      <td>-21.494135</td>\n",
       "      <td>21.494135</td>\n",
       "    </tr>\n",
       "    <tr>\n",
       "      <th>1207</th>\n",
       "      <td>best</td>\n",
       "      <td>21.484082</td>\n",
       "      <td>21.484082</td>\n",
       "    </tr>\n",
       "    <tr>\n",
       "      <th>4095</th>\n",
       "      <td>free</td>\n",
       "      <td>20.436642</td>\n",
       "      <td>20.436642</td>\n",
       "    </tr>\n",
       "    <tr>\n",
       "      <th>8470</th>\n",
       "      <td>safety</td>\n",
       "      <td>20.272930</td>\n",
       "      <td>20.272930</td>\n",
       "    </tr>\n",
       "    <tr>\n",
       "      <th>7511</th>\n",
       "      <td>positive</td>\n",
       "      <td>19.637654</td>\n",
       "      <td>19.637654</td>\n",
       "    </tr>\n",
       "    <tr>\n",
       "      <th>10997</th>\n",
       "      <td>yeah</td>\n",
       "      <td>19.010867</td>\n",
       "      <td>19.010867</td>\n",
       "    </tr>\n",
       "    <tr>\n",
       "      <th>5755</th>\n",
       "      <td>like</td>\n",
       "      <td>18.970383</td>\n",
       "      <td>18.970383</td>\n",
       "    </tr>\n",
       "    <tr>\n",
       "      <th>9473</th>\n",
       "      <td>stupid</td>\n",
       "      <td>-18.843976</td>\n",
       "      <td>18.843976</td>\n",
       "    </tr>\n",
       "    <tr>\n",
       "      <th>4130</th>\n",
       "      <td>friends</td>\n",
       "      <td>18.538128</td>\n",
       "      <td>18.538128</td>\n",
       "    </tr>\n",
       "    <tr>\n",
       "      <th>4575</th>\n",
       "      <td>happy</td>\n",
       "      <td>18.511778</td>\n",
       "      <td>18.511778</td>\n",
       "    </tr>\n",
       "    <tr>\n",
       "      <th>4336</th>\n",
       "      <td>good</td>\n",
       "      <td>18.031770</td>\n",
       "      <td>18.031770</td>\n",
       "    </tr>\n",
       "    <tr>\n",
       "      <th>10952</th>\n",
       "      <td>wrong</td>\n",
       "      <td>-17.942282</td>\n",
       "      <td>17.942282</td>\n",
       "    </tr>\n",
       "    <tr>\n",
       "      <th>7165</th>\n",
       "      <td>partner</td>\n",
       "      <td>-17.677614</td>\n",
       "      <td>17.677614</td>\n",
       "    </tr>\n",
       "    <tr>\n",
       "      <th>4638</th>\n",
       "      <td>healthy</td>\n",
       "      <td>17.485899</td>\n",
       "      <td>17.485899</td>\n",
       "    </tr>\n",
       "    <tr>\n",
       "      <th>8912</th>\n",
       "      <td>sick</td>\n",
       "      <td>-17.462783</td>\n",
       "      <td>17.462783</td>\n",
       "    </tr>\n",
       "  </tbody>\n",
       "</table>\n",
       "</div>"
      ],
      "text/plain": [
       "            word       coef   abs coef\n",
       "8222    resource -24.903412  24.903412\n",
       "4546        hand  23.218213  23.218213\n",
       "7107       panic -22.791281  22.791281\n",
       "2602      crisis -22.565036  22.565036\n",
       "4413       great  21.988188  21.988188\n",
       "9614   suspended -21.494135  21.494135\n",
       "1207        best  21.484082  21.484082\n",
       "4095        free  20.436642  20.436642\n",
       "8470      safety  20.272930  20.272930\n",
       "7511    positive  19.637654  19.637654\n",
       "10997       yeah  19.010867  19.010867\n",
       "5755        like  18.970383  18.970383\n",
       "9473      stupid -18.843976  18.843976\n",
       "4130     friends  18.538128  18.538128\n",
       "4575       happy  18.511778  18.511778\n",
       "4336        good  18.031770  18.031770\n",
       "10952      wrong -17.942282  17.942282\n",
       "7165     partner -17.677614  17.677614\n",
       "4638     healthy  17.485899  17.485899\n",
       "8912        sick -17.462783  17.462783"
      ]
     },
     "execution_count": 18,
     "metadata": {},
     "output_type": "execute_result"
    }
   ],
   "source": [
    "# Top 20 words\n",
    "df_coef.sort_values('abs coef', ascending=False).head(20)"
   ]
  },
  {
   "cell_type": "markdown",
   "id": "2ed6144b",
   "metadata": {},
   "source": [
    "18.\tWhat are the top 10 “positive words”? The top 10 “negative words”? Print the top 10 words of each sentiment and their coefficients here."
   ]
  },
  {
   "cell_type": "code",
   "execution_count": 19,
   "id": "4bc8e8a8",
   "metadata": {},
   "outputs": [
    {
     "data": {
      "text/html": [
       "<div>\n",
       "<style scoped>\n",
       "    .dataframe tbody tr th:only-of-type {\n",
       "        vertical-align: middle;\n",
       "    }\n",
       "\n",
       "    .dataframe tbody tr th {\n",
       "        vertical-align: top;\n",
       "    }\n",
       "\n",
       "    .dataframe thead th {\n",
       "        text-align: right;\n",
       "    }\n",
       "</style>\n",
       "<table border=\"1\" class=\"dataframe\">\n",
       "  <thead>\n",
       "    <tr style=\"text-align: right;\">\n",
       "      <th></th>\n",
       "      <th>word</th>\n",
       "      <th>coef</th>\n",
       "      <th>abs coef</th>\n",
       "    </tr>\n",
       "  </thead>\n",
       "  <tbody>\n",
       "    <tr>\n",
       "      <th>4546</th>\n",
       "      <td>hand</td>\n",
       "      <td>23.218213</td>\n",
       "      <td>23.218213</td>\n",
       "    </tr>\n",
       "    <tr>\n",
       "      <th>4413</th>\n",
       "      <td>great</td>\n",
       "      <td>21.988188</td>\n",
       "      <td>21.988188</td>\n",
       "    </tr>\n",
       "    <tr>\n",
       "      <th>1207</th>\n",
       "      <td>best</td>\n",
       "      <td>21.484082</td>\n",
       "      <td>21.484082</td>\n",
       "    </tr>\n",
       "    <tr>\n",
       "      <th>4095</th>\n",
       "      <td>free</td>\n",
       "      <td>20.436642</td>\n",
       "      <td>20.436642</td>\n",
       "    </tr>\n",
       "    <tr>\n",
       "      <th>8470</th>\n",
       "      <td>safety</td>\n",
       "      <td>20.272930</td>\n",
       "      <td>20.272930</td>\n",
       "    </tr>\n",
       "    <tr>\n",
       "      <th>7511</th>\n",
       "      <td>positive</td>\n",
       "      <td>19.637654</td>\n",
       "      <td>19.637654</td>\n",
       "    </tr>\n",
       "    <tr>\n",
       "      <th>10997</th>\n",
       "      <td>yeah</td>\n",
       "      <td>19.010867</td>\n",
       "      <td>19.010867</td>\n",
       "    </tr>\n",
       "    <tr>\n",
       "      <th>5755</th>\n",
       "      <td>like</td>\n",
       "      <td>18.970383</td>\n",
       "      <td>18.970383</td>\n",
       "    </tr>\n",
       "    <tr>\n",
       "      <th>4130</th>\n",
       "      <td>friends</td>\n",
       "      <td>18.538128</td>\n",
       "      <td>18.538128</td>\n",
       "    </tr>\n",
       "    <tr>\n",
       "      <th>4575</th>\n",
       "      <td>happy</td>\n",
       "      <td>18.511778</td>\n",
       "      <td>18.511778</td>\n",
       "    </tr>\n",
       "  </tbody>\n",
       "</table>\n",
       "</div>"
      ],
      "text/plain": [
       "           word       coef   abs coef\n",
       "4546       hand  23.218213  23.218213\n",
       "4413      great  21.988188  21.988188\n",
       "1207       best  21.484082  21.484082\n",
       "4095       free  20.436642  20.436642\n",
       "8470     safety  20.272930  20.272930\n",
       "7511   positive  19.637654  19.637654\n",
       "10997      yeah  19.010867  19.010867\n",
       "5755       like  18.970383  18.970383\n",
       "4130    friends  18.538128  18.538128\n",
       "4575      happy  18.511778  18.511778"
      ]
     },
     "metadata": {},
     "output_type": "display_data"
    },
    {
     "data": {
      "text/html": [
       "<div>\n",
       "<style scoped>\n",
       "    .dataframe tbody tr th:only-of-type {\n",
       "        vertical-align: middle;\n",
       "    }\n",
       "\n",
       "    .dataframe tbody tr th {\n",
       "        vertical-align: top;\n",
       "    }\n",
       "\n",
       "    .dataframe thead th {\n",
       "        text-align: right;\n",
       "    }\n",
       "</style>\n",
       "<table border=\"1\" class=\"dataframe\">\n",
       "  <thead>\n",
       "    <tr style=\"text-align: right;\">\n",
       "      <th></th>\n",
       "      <th>word</th>\n",
       "      <th>coef</th>\n",
       "      <th>abs coef</th>\n",
       "    </tr>\n",
       "  </thead>\n",
       "  <tbody>\n",
       "    <tr>\n",
       "      <th>8222</th>\n",
       "      <td>resource</td>\n",
       "      <td>-24.903412</td>\n",
       "      <td>24.903412</td>\n",
       "    </tr>\n",
       "    <tr>\n",
       "      <th>7107</th>\n",
       "      <td>panic</td>\n",
       "      <td>-22.791281</td>\n",
       "      <td>22.791281</td>\n",
       "    </tr>\n",
       "    <tr>\n",
       "      <th>2602</th>\n",
       "      <td>crisis</td>\n",
       "      <td>-22.565036</td>\n",
       "      <td>22.565036</td>\n",
       "    </tr>\n",
       "    <tr>\n",
       "      <th>9614</th>\n",
       "      <td>suspended</td>\n",
       "      <td>-21.494135</td>\n",
       "      <td>21.494135</td>\n",
       "    </tr>\n",
       "    <tr>\n",
       "      <th>9473</th>\n",
       "      <td>stupid</td>\n",
       "      <td>-18.843976</td>\n",
       "      <td>18.843976</td>\n",
       "    </tr>\n",
       "    <tr>\n",
       "      <th>10952</th>\n",
       "      <td>wrong</td>\n",
       "      <td>-17.942282</td>\n",
       "      <td>17.942282</td>\n",
       "    </tr>\n",
       "    <tr>\n",
       "      <th>7165</th>\n",
       "      <td>partner</td>\n",
       "      <td>-17.677614</td>\n",
       "      <td>17.677614</td>\n",
       "    </tr>\n",
       "    <tr>\n",
       "      <th>8912</th>\n",
       "      <td>sick</td>\n",
       "      <td>-17.462783</td>\n",
       "      <td>17.462783</td>\n",
       "    </tr>\n",
       "    <tr>\n",
       "      <th>3843</th>\n",
       "      <td>ffs</td>\n",
       "      <td>-17.168007</td>\n",
       "      <td>17.168007</td>\n",
       "    </tr>\n",
       "    <tr>\n",
       "      <th>4667</th>\n",
       "      <td>hell</td>\n",
       "      <td>-16.892468</td>\n",
       "      <td>16.892468</td>\n",
       "    </tr>\n",
       "  </tbody>\n",
       "</table>\n",
       "</div>"
      ],
      "text/plain": [
       "            word       coef   abs coef\n",
       "8222    resource -24.903412  24.903412\n",
       "7107       panic -22.791281  22.791281\n",
       "2602      crisis -22.565036  22.565036\n",
       "9614   suspended -21.494135  21.494135\n",
       "9473      stupid -18.843976  18.843976\n",
       "10952      wrong -17.942282  17.942282\n",
       "7165     partner -17.677614  17.677614\n",
       "8912        sick -17.462783  17.462783\n",
       "3843         ffs -17.168007  17.168007\n",
       "4667        hell -16.892468  16.892468"
      ]
     },
     "metadata": {},
     "output_type": "display_data"
    }
   ],
   "source": [
    "# Top 10 Positive\n",
    "display(df_coef.sort_values('coef', ascending=False).head(10))\n",
    "\n",
    "# Top 10 Negative\n",
    "display(df_coef.sort_values('coef').head(10))"
   ]
  },
  {
   "cell_type": "markdown",
   "id": "181c28e7",
   "metadata": {},
   "source": [
    "19.\tHere you will use the HuggingFace package with pre-trained algorithms. This pipeline takes string text as input, not tokens. So you will be using your dataframe from question 5. First work with the default model for sentiment analysis from HuggingFace which is the DistilBERT base uncased model finetuned with SST-2.  \n",
    "\n",
    "\n",
    "a.\tRun the following code  \n",
    "\n",
    "\n",
    "b.\tPaste the output from the code here:\n"
   ]
  },
  {
   "cell_type": "code",
   "execution_count": 20,
   "id": "8e492beb",
   "metadata": {},
   "outputs": [
    {
     "name": "stderr",
     "output_type": "stream",
     "text": [
      "No model was supplied, defaulted to distilbert-base-uncased-finetuned-sst-2-english (https://huggingface.co/distilbert-base-uncased-finetuned-sst-2-english)\n"
     ]
    },
    {
     "name": "stdout",
     "output_type": "stream",
     "text": [
      "[{'label': 'NEGATIVE', 'score': 0.999046266078949}, {'label': 'NEGATIVE', 'score': 0.9964587092399597}, {'label': 'POSITIVE', 'score': 0.9808228611946106}, {'label': 'NEGATIVE', 'score': 0.9943122863769531}, {'label': 'NEGATIVE', 'score': 0.9957156777381897}, {'label': 'NEGATIVE', 'score': 0.9990513920783997}, {'label': 'POSITIVE', 'score': 0.9799405932426453}, {'label': 'NEGATIVE', 'score': 0.9910359382629395}, {'label': 'NEGATIVE', 'score': 0.9969425797462463}, {'label': 'NEGATIVE', 'score': 0.9989578723907471}]\n",
      "TRENDING: New Yorkers encounter empty supermarket shelves (pictured, Wegmans in Brooklyn), sold-out online grocers (FoodKick, MaxDelivery) as #coronavirus-fearing shoppers stock up https://t.co/Gr76pcrLWh https://t.co/ivMKMsqdT1\n",
      "/n/break 0\n",
      "When I couldn't find hand sanitizer at Fred Meyer, I turned to #Amazon. But $114.97 for a 2 pack of Purell??!!Check out how  #coronavirus concerns are driving up prices. https://t.co/ygbipBflMY\n",
      "/n/break 1\n",
      "Find out how you can protect yourself and loved ones from #coronavirus. ?\n",
      "/n/break 2\n",
      "#Panic buying hits #NewYork City as anxious shoppers stock up on food&amp;medical supplies after #healthcare worker in her 30s becomes #BigApple 1st confirmed #coronavirus patient OR a #Bloomberg staged event?\r",
      "\r\n",
      "\r",
      "\r\n",
      "https://t.co/IASiReGPC4\r",
      "\r\n",
      "\r",
      "\r\n",
      "#QAnon #QAnon2018 #QAnon2020 \r",
      "\r\n",
      "#Election2020 #CDC https://t.co/29isZOewxu\n",
      "/n/break 3\n",
      "Voting in the age of #coronavirus = hand sanitizer ? #SuperTuesday https://t.co/z0BeL4O6Dk\n",
      "/n/break 4\n",
      "HI TWITTER! I am a pharmacist. I sell hand sanitizer for a living! Or I do when any exists. Like masks, it is sold the fuck out everywhere. SHOULD YOU BE WORRIED? No. Use soap. SHOULD YOU VISIT TWENTY PHARMACIES LOOKING FOR THE LAST BOTTLE? No. Pharmacies are full of sick people.\n",
      "/n/break 5\n",
      "Anyone been in a supermarket over the last few days? Went to do my NORMAL shop last night &amp; ??is the sight that greeted me. Barmy! (Btw, whatÂs so special about tinned tomatoes? ????????????). #Covid_19 #Dublin https://t.co/rGsM8xUxr6\n",
      "/n/break 6\n",
      "Best quality couches at unbelievably low prices available to order.\r",
      "\r\n",
      "\r",
      "\r\n",
      "We are in Boksburg GP \r",
      "\r\n",
      "\r",
      "\r\n",
      "For more info WhatsApp:\r",
      "\r\n",
      "084 764 8086\r",
      "\r\n",
      "\r",
      "\r\n",
      "#SuperTuesdsy #PowerTalk \r",
      "\r\n",
      "#Covid_19 #SayEntrepreneur \r",
      "\r\n",
      "#DJSBU https://t.co/HhDJhyQ2Dc\n",
      "/n/break 7\n",
      "Beware of counterfeits trying to sell fake masks at cheap prices. Let's defeat coronavirus threat, #Covid_19 collectively. #BeSafe #BeACascader #CoronavirusReachesDelhi \r",
      "\r\n",
      "#coronavirusindia \r",
      "\r\n",
      "\r",
      "\r\n",
      "https://t.co/2Ikkmimj4f https://t.co/RB9rtt7Nkc\n",
      "/n/break 8\n",
      "Panic food buying in Germany due to #coronavirus has begun.  But the #organic is left behind! #Hamsterkauf\r",
      "\r\n",
      "\r",
      "\r\n",
      "Panic buying is called \"Hamster purchases\"(HamsterkÃ¤ufe) in German, taken from the way Hamsters stuff their cheeks with food.  \r",
      "\r\n",
      "\r",
      "\r\n",
      "https://t.co/aYQtLLGW1m\n",
      "/n/break 9\n"
     ]
    }
   ],
   "source": [
    "# Setup the default pipeline\n",
    "sentiment_pipeline = pipeline(\"sentiment-analysis\")\n",
    "\n",
    "# Print the results of running the pipeline on the original tweets\n",
    "print(sentiment_pipeline(df_tweet['OriginalTweet'][0:10].tolist()))\n",
    "\n",
    "# Print the original tweets with defined breaks for readability\n",
    "for i in range(len(df_tweet['OriginalTweet'][0:10].tolist())):\n",
    "    print(df_tweet['OriginalTweet'][0:10].tolist()[i])\n",
    "    print('/n/break ' + str(i))"
   ]
  },
  {
   "cell_type": "markdown",
   "id": "7168c96f",
   "metadata": {},
   "source": [
    "c.\tHow does this compare to the original sentiment label? Print out the original sentiment label for the first 10 tweets.  "
   ]
  },
  {
   "cell_type": "code",
   "execution_count": 21,
   "id": "bd83982c",
   "metadata": {},
   "outputs": [
    {
     "data": {
      "text/plain": [
       "0    Extremely Negative\n",
       "1              Positive\n",
       "2    Extremely Positive\n",
       "3              Negative\n",
       "4              Positive\n",
       "5    Extremely Negative\n",
       "6    Extremely Positive\n",
       "7              Positive\n",
       "8    Extremely Negative\n",
       "9    Extremely Negative\n",
       "Name: Sentiment, dtype: object"
      ]
     },
     "execution_count": 21,
     "metadata": {},
     "output_type": "execute_result"
    }
   ],
   "source": [
    "# Display the original sentiment labels for the first 10 tweets\n",
    "df_tweet['Sentiment'][0:10]"
   ]
  },
  {
   "cell_type": "markdown",
   "id": "c23c7a54",
   "metadata": {},
   "source": [
    "d.\tDo you think the hand coded labels (the original sentiment labels) or the ones predicted by the pre-trained algorithm make more sense? Explain your answer using the text from the tweets as evidence. Why do you think there are differences?  \n",
    "\n",
    "The hand coded labels mark tweets at indices 0,3,5,8,9 as negative, and tweets 1,2,4,6,7 as positive. The pre-trained algorithm marks tweets 0,1,3,4,5,7,8,9 as negative and tweets 2,6 as positive, so the two labelling methods disagree on tweets 1,4 and 7. For tweet 1, the pre-trained label makes more sense, but for tweet 7, the hand coded one does. Tweet 1 is talking about rising prices of hand sanitizer, which is certainly a negative thing especially during a pandemic. Tweet 7 is an advertisement emphasizing low prices, which is a good thing, but the tweet has a covid hashtag, which is probably severely negatively skewing the sentiment for the pre-trained model. The sentiment of tweet 4 seems pretty ambiguous as it's mostly just expressing an observation, and there are both positive things, like voting, and negative things, like coronavirus, mentioned in the tweet. The coronavirus mention is probably why the pre-trained model rates it as negative, while the person's tone in the attached video is more upbeat which is probably why it earns the hand coded label of positive. The latter is probably the more correct reading of the tweet.\n",
    "\n",
    "The ratings of all the other tweets seem to make sense for both models except 6. The negative tweets are almost all about shopping crises brought on by the beginning of covid, while the positive tweet is about protecting yourself and your family from covid. Both models seems to miss the sarcasm implied (and the included picture) of tweet 6, which is again about a shopping crisis.\n",
    "\n",
    "Overall, the hand coded labels seem to make slightly more sense, but neither model is perfect and the pre-trained model still performs very well."
   ]
  },
  {
   "cell_type": "markdown",
   "id": "a0d693e2",
   "metadata": {},
   "source": [
    "20.\tLook at the other pretrained models in HuggingFace at https://huggingface.co/models?pipeline_tag=text-classification&sort=downloads&search=sentiment. \n",
    "\n",
    "a.\tWhich pretrained models would be appropriate for analyzing the Covid Tweets dataset? Name the model you would use, broadly how it was trained, and your reasoning for why you would pick it.  \n",
    "\n",
    "Any model recently trained (i.e. post Covid-19) on large samples of English tweets should suffice for analyzing the Covid Tweets dataset. I chose the cardiffnlp/twitter-roberta-base-sentiment-latest, which was trained on 124 million tweets from January 2018 to December 2021, because this includes the entire context of the Covid crises so it will probably have the most accurate understanding of how mentions of covid relate to sentiment.\n",
    "\n"
   ]
  },
  {
   "cell_type": "markdown",
   "id": "a1497f98",
   "metadata": {},
   "source": [
    "b.\tTake the code from 19a. and run the sentiment analysis for the same 10 tweets. Print the predicted labels here:"
   ]
  },
  {
   "cell_type": "code",
   "execution_count": 22,
   "id": "391dcf72",
   "metadata": {},
   "outputs": [
    {
     "name": "stderr",
     "output_type": "stream",
     "text": [
      "Some weights of the model checkpoint at cardiffnlp/twitter-roberta-base-sentiment-latest were not used when initializing RobertaForSequenceClassification: ['roberta.pooler.dense.weight', 'roberta.pooler.dense.bias']\n",
      "- This IS expected if you are initializing RobertaForSequenceClassification from the checkpoint of a model trained on another task or with another architecture (e.g. initializing a BertForSequenceClassification model from a BertForPreTraining model).\n",
      "- This IS NOT expected if you are initializing RobertaForSequenceClassification from the checkpoint of a model that you expect to be exactly identical (initializing a BertForSequenceClassification model from a BertForSequenceClassification model).\n"
     ]
    },
    {
     "name": "stdout",
     "output_type": "stream",
     "text": [
      "[{'label': 'Negative', 'score': 0.5433744788169861}, {'label': 'Negative', 'score': 0.7914344072341919}, {'label': 'Neutral', 'score': 0.8296441435813904}, {'label': 'Negative', 'score': 0.5996304154396057}, {'label': 'Neutral', 'score': 0.7118917107582092}, {'label': 'Negative', 'score': 0.848591685295105}, {'label': 'Positive', 'score': 0.6536583304405212}, {'label': 'Neutral', 'score': 0.5237236618995667}, {'label': 'Negative', 'score': 0.5035489797592163}, {'label': 'Negative', 'score': 0.5594478249549866}]\n",
      "TRENDING: New Yorkers encounter empty supermarket shelves (pictured, Wegmans in Brooklyn), sold-out online grocers (FoodKick, MaxDelivery) as #coronavirus-fearing shoppers stock up https://t.co/Gr76pcrLWh https://t.co/ivMKMsqdT1\n",
      "/n/break 0\n",
      "When I couldn't find hand sanitizer at Fred Meyer, I turned to #Amazon. But $114.97 for a 2 pack of Purell??!!Check out how  #coronavirus concerns are driving up prices. https://t.co/ygbipBflMY\n",
      "/n/break 1\n",
      "Find out how you can protect yourself and loved ones from #coronavirus. ?\n",
      "/n/break 2\n",
      "#Panic buying hits #NewYork City as anxious shoppers stock up on food&amp;medical supplies after #healthcare worker in her 30s becomes #BigApple 1st confirmed #coronavirus patient OR a #Bloomberg staged event?\r",
      "\r\n",
      "\r",
      "\r\n",
      "https://t.co/IASiReGPC4\r",
      "\r\n",
      "\r",
      "\r\n",
      "#QAnon #QAnon2018 #QAnon2020 \r",
      "\r\n",
      "#Election2020 #CDC https://t.co/29isZOewxu\n",
      "/n/break 3\n",
      "Voting in the age of #coronavirus = hand sanitizer ? #SuperTuesday https://t.co/z0BeL4O6Dk\n",
      "/n/break 4\n",
      "HI TWITTER! I am a pharmacist. I sell hand sanitizer for a living! Or I do when any exists. Like masks, it is sold the fuck out everywhere. SHOULD YOU BE WORRIED? No. Use soap. SHOULD YOU VISIT TWENTY PHARMACIES LOOKING FOR THE LAST BOTTLE? No. Pharmacies are full of sick people.\n",
      "/n/break 5\n",
      "Anyone been in a supermarket over the last few days? Went to do my NORMAL shop last night &amp; ??is the sight that greeted me. Barmy! (Btw, whatÂs so special about tinned tomatoes? ????????????). #Covid_19 #Dublin https://t.co/rGsM8xUxr6\n",
      "/n/break 6\n",
      "Best quality couches at unbelievably low prices available to order.\r",
      "\r\n",
      "\r",
      "\r\n",
      "We are in Boksburg GP \r",
      "\r\n",
      "\r",
      "\r\n",
      "For more info WhatsApp:\r",
      "\r\n",
      "084 764 8086\r",
      "\r\n",
      "\r",
      "\r\n",
      "#SuperTuesdsy #PowerTalk \r",
      "\r\n",
      "#Covid_19 #SayEntrepreneur \r",
      "\r\n",
      "#DJSBU https://t.co/HhDJhyQ2Dc\n",
      "/n/break 7\n",
      "Beware of counterfeits trying to sell fake masks at cheap prices. Let's defeat coronavirus threat, #Covid_19 collectively. #BeSafe #BeACascader #CoronavirusReachesDelhi \r",
      "\r\n",
      "#coronavirusindia \r",
      "\r\n",
      "\r",
      "\r\n",
      "https://t.co/2Ikkmimj4f https://t.co/RB9rtt7Nkc\n",
      "/n/break 8\n",
      "Panic food buying in Germany due to #coronavirus has begun.  But the #organic is left behind! #Hamsterkauf\r",
      "\r\n",
      "\r",
      "\r\n",
      "Panic buying is called \"Hamster purchases\"(HamsterkÃ¤ufe) in German, taken from the way Hamsters stuff their cheeks with food.  \r",
      "\r\n",
      "\r",
      "\r\n",
      "https://t.co/aYQtLLGW1m\n",
      "/n/break 9\n"
     ]
    }
   ],
   "source": [
    "# Set up the roberta-base-sentiment model in the pipeline\n",
    "sentiment_pipeline = pipeline(\"sentiment-analysis\", model=\"cardiffnlp/twitter-roberta-base-sentiment-latest\",\n",
    "                             tokenizer=\"cardiffnlp/twitter-roberta-base-sentiment-latest\")\n",
    "\n",
    "# Print the results of running the pipeline on the original tweets\n",
    "print(sentiment_pipeline(df_tweet['OriginalTweet'][0:10].tolist()))\n",
    "\n",
    "# Print the original tweets with defined breaks for readability\n",
    "for i in range(len(df_tweet['OriginalTweet'][0:10].tolist())):\n",
    "    print(df_tweet['OriginalTweet'][0:10].tolist()[i])\n",
    "    print('/n/break ' + str(i))"
   ]
  },
  {
   "cell_type": "markdown",
   "id": "2b19456c",
   "metadata": {},
   "source": [
    "c.\tHow do the predicted labels here compare to those from question 19? Explain why you think there are differences/similarities.   \n",
    "\n",
    "This model assigns a negative sentiment for tweets 0,1,3,5,8,9, neutral for tweets 2,4,7 and positive for tweet 6.\n",
    "I think the neutral label certainly makes more sense for 4 and is probably reasonable for tweets 2 and 7 as well. The negative tweets all use obviously negative words like \"panic\", or \"beware\", or \"fear\", which is why they are still marked negative with this model. In the time since covid started, the word covid itself has become less of an inherently negative word and instead more neutral, which explains why this model marks tweets 4 and 7 as neutral instead of negative like the previous one. Again, the model seems to the miss the sarcasm in tweet 6 and mark it as positive. This might be because Dublin has a positive association in the training set, which could be skewing both models when there aren't any obviously negative words in the tweet (the default model documentation noted this could happen with certain country names).\n"
   ]
  },
  {
   "cell_type": "code",
   "execution_count": null,
   "id": "af2d308f",
   "metadata": {},
   "outputs": [],
   "source": []
  }
 ],
 "metadata": {
  "kernelspec": {
   "display_name": "Python 3",
   "language": "python",
   "name": "python3"
  },
  "language_info": {
   "codemirror_mode": {
    "name": "ipython",
    "version": 3
   },
   "file_extension": ".py",
   "mimetype": "text/x-python",
   "name": "python",
   "nbconvert_exporter": "python",
   "pygments_lexer": "ipython3",
   "version": "3.8.8"
  }
 },
 "nbformat": 4,
 "nbformat_minor": 5
}
